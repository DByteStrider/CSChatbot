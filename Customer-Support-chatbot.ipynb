{
 "cells": [
  {
   "cell_type": "code",
   "execution_count": 1,
   "id": "708daf22",
   "metadata": {},
   "outputs": [
    {
     "name": "stdout",
     "output_type": "stream",
     "text": [
      "Requirement already satisfied: llama_index in /Users/haoliu/anaconda3/lib/python3.10/site-packages (0.7.16)\n",
      "Requirement already satisfied: langchain>=0.0.218 in /Users/haoliu/anaconda3/lib/python3.10/site-packages (from llama_index) (0.0.249)\n",
      "Requirement already satisfied: typing-extensions>=4.5.0 in /Users/haoliu/anaconda3/lib/python3.10/site-packages (from llama_index) (4.7.1)\n",
      "Requirement already satisfied: pandas in /Users/haoliu/anaconda3/lib/python3.10/site-packages (from llama_index) (1.5.3)\n",
      "Requirement already satisfied: urllib3<2 in /Users/haoliu/anaconda3/lib/python3.10/site-packages (from llama_index) (1.26.14)\n",
      "Requirement already satisfied: typing-inspect>=0.8.0 in /Users/haoliu/anaconda3/lib/python3.10/site-packages (from llama_index) (0.9.0)\n",
      "Requirement already satisfied: dataclasses-json in /Users/haoliu/anaconda3/lib/python3.10/site-packages (from llama_index) (0.5.14)\n",
      "Requirement already satisfied: openai>=0.26.4 in /Users/haoliu/anaconda3/lib/python3.10/site-packages (from llama_index) (0.27.8)\n",
      "Requirement already satisfied: numpy in /Users/haoliu/anaconda3/lib/python3.10/site-packages (from llama_index) (1.24.0)\n",
      "Requirement already satisfied: sqlalchemy>=2.0.15 in /Users/haoliu/anaconda3/lib/python3.10/site-packages (from llama_index) (2.0.19)\n",
      "Requirement already satisfied: fsspec>=2023.5.0 in /Users/haoliu/anaconda3/lib/python3.10/site-packages (from llama_index) (2023.6.0)\n",
      "Requirement already satisfied: beautifulsoup4 in /Users/haoliu/anaconda3/lib/python3.10/site-packages (from llama_index) (4.11.1)\n",
      "Requirement already satisfied: nest-asyncio in /Users/haoliu/anaconda3/lib/python3.10/site-packages (from llama_index) (1.5.6)\n",
      "Requirement already satisfied: tenacity<9.0.0,>=8.2.0 in /Users/haoliu/anaconda3/lib/python3.10/site-packages (from llama_index) (8.2.2)\n",
      "Requirement already satisfied: tiktoken in /Users/haoliu/anaconda3/lib/python3.10/site-packages (from llama_index) (0.4.0)\n",
      "Requirement already satisfied: async-timeout<5.0.0,>=4.0.0 in /Users/haoliu/anaconda3/lib/python3.10/site-packages (from langchain>=0.0.218->llama_index) (4.0.2)\n",
      "Requirement already satisfied: langsmith<0.1.0,>=0.0.11 in /Users/haoliu/anaconda3/lib/python3.10/site-packages (from langchain>=0.0.218->llama_index) (0.0.16)\n",
      "Requirement already satisfied: aiohttp<4.0.0,>=3.8.3 in /Users/haoliu/anaconda3/lib/python3.10/site-packages (from langchain>=0.0.218->llama_index) (3.8.5)\n",
      "Requirement already satisfied: pydantic<2,>=1 in /Users/haoliu/anaconda3/lib/python3.10/site-packages (from langchain>=0.0.218->llama_index) (1.10.12)\n",
      "Requirement already satisfied: PyYAML>=5.4.1 in /Users/haoliu/anaconda3/lib/python3.10/site-packages (from langchain>=0.0.218->llama_index) (6.0)\n",
      "Requirement already satisfied: numexpr<3.0.0,>=2.8.4 in /Users/haoliu/anaconda3/lib/python3.10/site-packages (from langchain>=0.0.218->llama_index) (2.8.4)\n",
      "Requirement already satisfied: requests<3,>=2 in /Users/haoliu/anaconda3/lib/python3.10/site-packages (from langchain>=0.0.218->llama_index) (2.28.1)\n",
      "Requirement already satisfied: openapi-schema-pydantic<2.0,>=1.2 in /Users/haoliu/anaconda3/lib/python3.10/site-packages (from langchain>=0.0.218->llama_index) (1.2.4)\n",
      "Requirement already satisfied: marshmallow<4.0.0,>=3.18.0 in /Users/haoliu/anaconda3/lib/python3.10/site-packages (from dataclasses-json->llama_index) (3.20.1)\n",
      "Requirement already satisfied: tqdm in /Users/haoliu/anaconda3/lib/python3.10/site-packages (from openai>=0.26.4->llama_index) (4.64.1)\n",
      "Requirement already satisfied: mypy-extensions>=0.3.0 in /Users/haoliu/anaconda3/lib/python3.10/site-packages (from typing-inspect>=0.8.0->llama_index) (0.4.3)\n",
      "Requirement already satisfied: soupsieve>1.2 in /Users/haoliu/anaconda3/lib/python3.10/site-packages (from beautifulsoup4->llama_index) (2.3.2.post1)\n",
      "Requirement already satisfied: python-dateutil>=2.8.1 in /Users/haoliu/anaconda3/lib/python3.10/site-packages (from pandas->llama_index) (2.8.2)\n",
      "Requirement already satisfied: pytz>=2020.1 in /Users/haoliu/anaconda3/lib/python3.10/site-packages (from pandas->llama_index) (2022.7)\n",
      "Requirement already satisfied: regex>=2022.1.18 in /Users/haoliu/anaconda3/lib/python3.10/site-packages (from tiktoken->llama_index) (2022.7.9)\n",
      "Requirement already satisfied: charset-normalizer<4.0,>=2.0 in /Users/haoliu/anaconda3/lib/python3.10/site-packages (from aiohttp<4.0.0,>=3.8.3->langchain>=0.0.218->llama_index) (2.0.4)\n",
      "Requirement already satisfied: multidict<7.0,>=4.5 in /Users/haoliu/anaconda3/lib/python3.10/site-packages (from aiohttp<4.0.0,>=3.8.3->langchain>=0.0.218->llama_index) (6.0.4)\n",
      "Requirement already satisfied: yarl<2.0,>=1.0 in /Users/haoliu/anaconda3/lib/python3.10/site-packages (from aiohttp<4.0.0,>=3.8.3->langchain>=0.0.218->llama_index) (1.9.2)\n",
      "Requirement already satisfied: attrs>=17.3.0 in /Users/haoliu/anaconda3/lib/python3.10/site-packages (from aiohttp<4.0.0,>=3.8.3->langchain>=0.0.218->llama_index) (22.1.0)\n",
      "Requirement already satisfied: aiosignal>=1.1.2 in /Users/haoliu/anaconda3/lib/python3.10/site-packages (from aiohttp<4.0.0,>=3.8.3->langchain>=0.0.218->llama_index) (1.3.1)\n",
      "Requirement already satisfied: frozenlist>=1.1.1 in /Users/haoliu/anaconda3/lib/python3.10/site-packages (from aiohttp<4.0.0,>=3.8.3->langchain>=0.0.218->llama_index) (1.4.0)\n",
      "Requirement already satisfied: packaging>=17.0 in /Users/haoliu/anaconda3/lib/python3.10/site-packages (from marshmallow<4.0.0,>=3.18.0->dataclasses-json->llama_index) (22.0)\n",
      "Requirement already satisfied: six>=1.5 in /Users/haoliu/anaconda3/lib/python3.10/site-packages (from python-dateutil>=2.8.1->pandas->llama_index) (1.16.0)\n",
      "Requirement already satisfied: idna<4,>=2.5 in /Users/haoliu/anaconda3/lib/python3.10/site-packages (from requests<3,>=2->langchain>=0.0.218->llama_index) (3.4)\n",
      "Requirement already satisfied: certifi>=2017.4.17 in /Users/haoliu/anaconda3/lib/python3.10/site-packages (from requests<3,>=2->langchain>=0.0.218->llama_index) (2022.6.15)\n",
      "Requirement already satisfied: langchain in /Users/haoliu/anaconda3/lib/python3.10/site-packages (0.0.249)\n",
      "Requirement already satisfied: numpy<2,>=1 in /Users/haoliu/anaconda3/lib/python3.10/site-packages (from langchain) (1.24.0)\n",
      "Requirement already satisfied: async-timeout<5.0.0,>=4.0.0 in /Users/haoliu/anaconda3/lib/python3.10/site-packages (from langchain) (4.0.2)\n",
      "Requirement already satisfied: PyYAML>=5.4.1 in /Users/haoliu/anaconda3/lib/python3.10/site-packages (from langchain) (6.0)\n",
      "Requirement already satisfied: requests<3,>=2 in /Users/haoliu/anaconda3/lib/python3.10/site-packages (from langchain) (2.28.1)\n",
      "Requirement already satisfied: SQLAlchemy<3,>=1.4 in /Users/haoliu/anaconda3/lib/python3.10/site-packages (from langchain) (2.0.19)\n",
      "Requirement already satisfied: openapi-schema-pydantic<2.0,>=1.2 in /Users/haoliu/anaconda3/lib/python3.10/site-packages (from langchain) (1.2.4)\n",
      "Requirement already satisfied: aiohttp<4.0.0,>=3.8.3 in /Users/haoliu/anaconda3/lib/python3.10/site-packages (from langchain) (3.8.5)\n",
      "Requirement already satisfied: numexpr<3.0.0,>=2.8.4 in /Users/haoliu/anaconda3/lib/python3.10/site-packages (from langchain) (2.8.4)\n",
      "Requirement already satisfied: dataclasses-json<0.6.0,>=0.5.7 in /Users/haoliu/anaconda3/lib/python3.10/site-packages (from langchain) (0.5.14)\n",
      "Requirement already satisfied: pydantic<2,>=1 in /Users/haoliu/anaconda3/lib/python3.10/site-packages (from langchain) (1.10.12)\n",
      "Requirement already satisfied: langsmith<0.1.0,>=0.0.11 in /Users/haoliu/anaconda3/lib/python3.10/site-packages (from langchain) (0.0.16)\n",
      "Requirement already satisfied: tenacity<9.0.0,>=8.1.0 in /Users/haoliu/anaconda3/lib/python3.10/site-packages (from langchain) (8.2.2)\n",
      "Requirement already satisfied: charset-normalizer<4.0,>=2.0 in /Users/haoliu/anaconda3/lib/python3.10/site-packages (from aiohttp<4.0.0,>=3.8.3->langchain) (2.0.4)\n",
      "Requirement already satisfied: attrs>=17.3.0 in /Users/haoliu/anaconda3/lib/python3.10/site-packages (from aiohttp<4.0.0,>=3.8.3->langchain) (22.1.0)\n",
      "Requirement already satisfied: yarl<2.0,>=1.0 in /Users/haoliu/anaconda3/lib/python3.10/site-packages (from aiohttp<4.0.0,>=3.8.3->langchain) (1.9.2)\n",
      "Requirement already satisfied: multidict<7.0,>=4.5 in /Users/haoliu/anaconda3/lib/python3.10/site-packages (from aiohttp<4.0.0,>=3.8.3->langchain) (6.0.4)\n",
      "Requirement already satisfied: aiosignal>=1.1.2 in /Users/haoliu/anaconda3/lib/python3.10/site-packages (from aiohttp<4.0.0,>=3.8.3->langchain) (1.3.1)\n",
      "Requirement already satisfied: frozenlist>=1.1.1 in /Users/haoliu/anaconda3/lib/python3.10/site-packages (from aiohttp<4.0.0,>=3.8.3->langchain) (1.4.0)\n",
      "Requirement already satisfied: marshmallow<4.0.0,>=3.18.0 in /Users/haoliu/anaconda3/lib/python3.10/site-packages (from dataclasses-json<0.6.0,>=0.5.7->langchain) (3.20.1)\n",
      "Requirement already satisfied: typing-inspect<1,>=0.4.0 in /Users/haoliu/anaconda3/lib/python3.10/site-packages (from dataclasses-json<0.6.0,>=0.5.7->langchain) (0.9.0)\n",
      "Requirement already satisfied: typing-extensions>=4.2.0 in /Users/haoliu/anaconda3/lib/python3.10/site-packages (from pydantic<2,>=1->langchain) (4.7.1)\n",
      "Requirement already satisfied: urllib3<1.27,>=1.21.1 in /Users/haoliu/anaconda3/lib/python3.10/site-packages (from requests<3,>=2->langchain) (1.26.14)\n",
      "Requirement already satisfied: idna<4,>=2.5 in /Users/haoliu/anaconda3/lib/python3.10/site-packages (from requests<3,>=2->langchain) (3.4)\n",
      "Requirement already satisfied: certifi>=2017.4.17 in /Users/haoliu/anaconda3/lib/python3.10/site-packages (from requests<3,>=2->langchain) (2022.6.15)\n"
     ]
    },
    {
     "name": "stdout",
     "output_type": "stream",
     "text": [
      "Requirement already satisfied: packaging>=17.0 in /Users/haoliu/anaconda3/lib/python3.10/site-packages (from marshmallow<4.0.0,>=3.18.0->dataclasses-json<0.6.0,>=0.5.7->langchain) (22.0)\r\n",
      "Requirement already satisfied: mypy-extensions>=0.3.0 in /Users/haoliu/anaconda3/lib/python3.10/site-packages (from typing-inspect<1,>=0.4.0->dataclasses-json<0.6.0,>=0.5.7->langchain) (0.4.3)\r\n"
     ]
    }
   ],
   "source": [
    "!pip install llama_index\n",
    "!pip install langchain"
   ]
  },
  {
   "cell_type": "code",
   "execution_count": 2,
   "id": "92aabd09",
   "metadata": {},
   "outputs": [],
   "source": [
    "from llama_index import SimpleDirectoryReader, VectorStoreIndex"
   ]
  },
  {
   "cell_type": "code",
   "execution_count": 3,
   "id": "ca24e93e",
   "metadata": {},
   "outputs": [],
   "source": [
    "from llama_index.llms import openai\n",
    "import json\n",
    "\n",
    "class Chatbot:\n",
    "    def __init__(self, api_key, query_engine):\n",
    "        self.query_engine = query_engine\n",
    "        openai.api_key = api_key\n",
    "        self.chat_history = []\n",
    "\n",
    "    def generate_response(self, user_input):\n",
    "        prompt = \"\\n\".join([f\"{message['role']}: {message['content']}\" for message in self.chat_history[-5:]])\n",
    "        prompt += f\"\\nUser: {user_input}\"\n",
    "        response = query_engine.query(user_input)\n",
    "\n",
    "        message = {\"role\": \"assistant\", \"content\": response.response}\n",
    "        self.chat_history.append({\"role\": \"user\", \"content\": user_input})\n",
    "        self.chat_history.append(message)\n",
    "        return message\n",
    "    \n",
    "    def load_chat_history(self, filename):\n",
    "        try:\n",
    "            with open(filename, 'r') as f:\n",
    "                self.chat_history = json.load(f)\n",
    "        except FileNotFoundError:\n",
    "            pass\n",
    "\n",
    "    def save_chat_history(self, filename):\n",
    "        with open(filename, 'w') as f:\n",
    "            json.dump(self.chat_history, f)"
   ]
  },
  {
   "cell_type": "code",
   "execution_count": 4,
   "id": "d2135327",
   "metadata": {},
   "outputs": [],
   "source": [
    "# load data and set up query engine\n",
    "# You need to specify the path where your source articles are in the next line of code, it needs to be the entire path to the files\n",
    "\n",
    "documents = SimpleDirectoryReader('./directory where your help center articles are').load_data()\n",
    "index = VectorStoreIndex(documents)\n",
    "query_engine = index.as_query_engine()"
   ]
  },
  {
   "cell_type": "code",
   "execution_count": null,
   "id": "efb6498e",
   "metadata": {},
   "outputs": [],
   "source": [
    "# Swap out your index below for whatever knowledge base you want\n",
    "# You'll need to input your OPENAI API Key in the next line of code\n",
    "# You can get your API Key with an OPENAI account\n",
    "\n",
    "bot = Chatbot(\"Your OPENAI API Key\", query_engine=query_engine)\n",
    "bot.load_chat_history(\"chat_history.json\")\n",
    "\n",
    "while True:\n",
    "    user_input = input(\"You: \")\n",
    "    if user_input.lower() in [\"bye\", \"goodbye\"]:\n",
    "        print(\"Bot: Goodbye!\")\n",
    "        bot.save_chat_history(\"chat_history.json\")\n",
    "        break\n",
    "    response = bot.generate_response(user_input)\n",
    "    print(f\"Bot: {response['content']}\")"
   ]
  },
  {
   "cell_type": "code",
   "execution_count": null,
   "id": "fb72fc1f",
   "metadata": {},
   "outputs": [],
   "source": []
  }
 ],
 "metadata": {
  "kernelspec": {
   "display_name": "Python 3 (ipykernel)",
   "language": "python",
   "name": "python3"
  },
  "language_info": {
   "codemirror_mode": {
    "name": "ipython",
    "version": 3
   },
   "file_extension": ".py",
   "mimetype": "text/x-python",
   "name": "python",
   "nbconvert_exporter": "python",
   "pygments_lexer": "ipython3",
   "version": "3.10.9"
  }
 },
 "nbformat": 4,
 "nbformat_minor": 5
}
